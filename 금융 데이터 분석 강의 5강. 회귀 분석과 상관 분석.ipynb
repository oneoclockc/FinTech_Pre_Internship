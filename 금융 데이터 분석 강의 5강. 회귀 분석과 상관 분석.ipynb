{
 "cells": [
  {
   "cell_type": "markdown",
   "id": "e8d4e790",
   "metadata": {},
   "source": [
    "# 상관관계 분석"
   ]
  },
  {
   "cell_type": "markdown",
   "id": "b9b29da3",
   "metadata": {},
   "source": [
    "국내 주식과 미국 주식의 상관관계 비교"
   ]
  },
  {
   "cell_type": "code",
   "execution_count": 1,
   "id": "5fccaf9d",
   "metadata": {},
   "outputs": [],
   "source": [
    "import FinanceDataReader as fdr"
   ]
  },
  {
   "cell_type": "code",
   "execution_count": 2,
   "id": "139951a5",
   "metadata": {},
   "outputs": [
    {
     "data": {
      "text/html": [
       "<div>\n",
       "<style scoped>\n",
       "    .dataframe tbody tr th:only-of-type {\n",
       "        vertical-align: middle;\n",
       "    }\n",
       "\n",
       "    .dataframe tbody tr th {\n",
       "        vertical-align: top;\n",
       "    }\n",
       "\n",
       "    .dataframe thead th {\n",
       "        text-align: right;\n",
       "    }\n",
       "</style>\n",
       "<table border=\"1\" class=\"dataframe\">\n",
       "  <thead>\n",
       "    <tr style=\"text-align: right;\">\n",
       "      <th></th>\n",
       "      <th>Close</th>\n",
       "      <th>Open</th>\n",
       "      <th>High</th>\n",
       "      <th>Low</th>\n",
       "      <th>Volume</th>\n",
       "      <th>Change</th>\n",
       "    </tr>\n",
       "    <tr>\n",
       "      <th>Date</th>\n",
       "      <th></th>\n",
       "      <th></th>\n",
       "      <th></th>\n",
       "      <th></th>\n",
       "      <th></th>\n",
       "      <th></th>\n",
       "    </tr>\n",
       "  </thead>\n",
       "  <tbody>\n",
       "    <tr>\n",
       "      <th>2010-06-01</th>\n",
       "      <td>10024.02</td>\n",
       "      <td>10133.94</td>\n",
       "      <td>10249.27</td>\n",
       "      <td>9976.56</td>\n",
       "      <td>221900000.0</td>\n",
       "      <td>-0.0111</td>\n",
       "    </tr>\n",
       "    <tr>\n",
       "      <th>2010-06-02</th>\n",
       "      <td>10249.54</td>\n",
       "      <td>10025.61</td>\n",
       "      <td>10256.57</td>\n",
       "      <td>10007.09</td>\n",
       "      <td>200850000.0</td>\n",
       "      <td>0.0225</td>\n",
       "    </tr>\n",
       "    <tr>\n",
       "      <th>2010-06-03</th>\n",
       "      <td>10255.28</td>\n",
       "      <td>10250.67</td>\n",
       "      <td>10348.84</td>\n",
       "      <td>10158.92</td>\n",
       "      <td>176870000.0</td>\n",
       "      <td>0.0006</td>\n",
       "    </tr>\n",
       "    <tr>\n",
       "      <th>2010-06-04</th>\n",
       "      <td>9931.97</td>\n",
       "      <td>10249.61</td>\n",
       "      <td>10249.61</td>\n",
       "      <td>9881.11</td>\n",
       "      <td>256600000.0</td>\n",
       "      <td>-0.0315</td>\n",
       "    </tr>\n",
       "    <tr>\n",
       "      <th>2010-06-07</th>\n",
       "      <td>9816.49</td>\n",
       "      <td>9931.75</td>\n",
       "      <td>10025.84</td>\n",
       "      <td>9798.73</td>\n",
       "      <td>222940000.0</td>\n",
       "      <td>-0.0116</td>\n",
       "    </tr>\n",
       "  </tbody>\n",
       "</table>\n",
       "</div>"
      ],
      "text/plain": [
       "               Close      Open      High       Low       Volume  Change\n",
       "Date                                                                   \n",
       "2010-06-01  10024.02  10133.94  10249.27   9976.56  221900000.0 -0.0111\n",
       "2010-06-02  10249.54  10025.61  10256.57  10007.09  200850000.0  0.0225\n",
       "2010-06-03  10255.28  10250.67  10348.84  10158.92  176870000.0  0.0006\n",
       "2010-06-04   9931.97  10249.61  10249.61   9881.11  256600000.0 -0.0315\n",
       "2010-06-07   9816.49   9931.75  10025.84   9798.73  222940000.0 -0.0116"
      ]
     },
     "execution_count": 2,
     "metadata": {},
     "output_type": "execute_result"
    }
   ],
   "source": [
    "dow = fdr.DataReader('DJI', '2010-06-01')\n",
    "dow.head()"
   ]
  },
  {
   "cell_type": "code",
   "execution_count": 3,
   "id": "a669d486",
   "metadata": {},
   "outputs": [
    {
     "data": {
      "text/html": [
       "<div>\n",
       "<style scoped>\n",
       "    .dataframe tbody tr th:only-of-type {\n",
       "        vertical-align: middle;\n",
       "    }\n",
       "\n",
       "    .dataframe tbody tr th {\n",
       "        vertical-align: top;\n",
       "    }\n",
       "\n",
       "    .dataframe thead th {\n",
       "        text-align: right;\n",
       "    }\n",
       "</style>\n",
       "<table border=\"1\" class=\"dataframe\">\n",
       "  <thead>\n",
       "    <tr style=\"text-align: right;\">\n",
       "      <th></th>\n",
       "      <th>Close</th>\n",
       "      <th>Open</th>\n",
       "      <th>High</th>\n",
       "      <th>Low</th>\n",
       "      <th>Volume</th>\n",
       "      <th>Change</th>\n",
       "    </tr>\n",
       "    <tr>\n",
       "      <th>Date</th>\n",
       "      <th></th>\n",
       "      <th></th>\n",
       "      <th></th>\n",
       "      <th></th>\n",
       "      <th></th>\n",
       "      <th></th>\n",
       "    </tr>\n",
       "  </thead>\n",
       "  <tbody>\n",
       "    <tr>\n",
       "      <th>2010-06-01</th>\n",
       "      <td>1630.40</td>\n",
       "      <td>1634.55</td>\n",
       "      <td>1643.08</td>\n",
       "      <td>1623.40</td>\n",
       "      <td>314100000.0</td>\n",
       "      <td>-0.0066</td>\n",
       "    </tr>\n",
       "    <tr>\n",
       "      <th>2010-06-03</th>\n",
       "      <td>1661.84</td>\n",
       "      <td>1643.74</td>\n",
       "      <td>1663.67</td>\n",
       "      <td>1641.77</td>\n",
       "      <td>308760000.0</td>\n",
       "      <td>0.0193</td>\n",
       "    </tr>\n",
       "    <tr>\n",
       "      <th>2010-06-04</th>\n",
       "      <td>1664.13</td>\n",
       "      <td>1660.99</td>\n",
       "      <td>1670.94</td>\n",
       "      <td>1658.52</td>\n",
       "      <td>286090000.0</td>\n",
       "      <td>0.0014</td>\n",
       "    </tr>\n",
       "    <tr>\n",
       "      <th>2010-06-07</th>\n",
       "      <td>1637.97</td>\n",
       "      <td>1628.06</td>\n",
       "      <td>1638.88</td>\n",
       "      <td>1618.57</td>\n",
       "      <td>300880000.0</td>\n",
       "      <td>-0.0157</td>\n",
       "    </tr>\n",
       "    <tr>\n",
       "      <th>2010-06-08</th>\n",
       "      <td>1651.48</td>\n",
       "      <td>1635.01</td>\n",
       "      <td>1656.37</td>\n",
       "      <td>1630.43</td>\n",
       "      <td>280290000.0</td>\n",
       "      <td>0.0082</td>\n",
       "    </tr>\n",
       "  </tbody>\n",
       "</table>\n",
       "</div>"
      ],
      "text/plain": [
       "              Close     Open     High      Low       Volume  Change\n",
       "Date                                                               \n",
       "2010-06-01  1630.40  1634.55  1643.08  1623.40  314100000.0 -0.0066\n",
       "2010-06-03  1661.84  1643.74  1663.67  1641.77  308760000.0  0.0193\n",
       "2010-06-04  1664.13  1660.99  1670.94  1658.52  286090000.0  0.0014\n",
       "2010-06-07  1637.97  1628.06  1638.88  1618.57  300880000.0 -0.0157\n",
       "2010-06-08  1651.48  1635.01  1656.37  1630.43  280290000.0  0.0082"
      ]
     },
     "execution_count": 3,
     "metadata": {},
     "output_type": "execute_result"
    }
   ],
   "source": [
    "kospi = fdr.DataReader('KS11', '2010-06-01')\n",
    "kospi.head()"
   ]
  },
  {
   "cell_type": "code",
   "execution_count": 4,
   "id": "672c116b",
   "metadata": {},
   "outputs": [
    {
     "data": {
      "text/html": [
       "<div>\n",
       "<style scoped>\n",
       "    .dataframe tbody tr th:only-of-type {\n",
       "        vertical-align: middle;\n",
       "    }\n",
       "\n",
       "    .dataframe tbody tr th {\n",
       "        vertical-align: top;\n",
       "    }\n",
       "\n",
       "    .dataframe thead th {\n",
       "        text-align: right;\n",
       "    }\n",
       "</style>\n",
       "<table border=\"1\" class=\"dataframe\">\n",
       "  <thead>\n",
       "    <tr style=\"text-align: right;\">\n",
       "      <th></th>\n",
       "      <th>Close</th>\n",
       "      <th>Open</th>\n",
       "      <th>High</th>\n",
       "      <th>Low</th>\n",
       "      <th>Volume</th>\n",
       "      <th>Change</th>\n",
       "    </tr>\n",
       "    <tr>\n",
       "      <th>Date</th>\n",
       "      <th></th>\n",
       "      <th></th>\n",
       "      <th></th>\n",
       "      <th></th>\n",
       "      <th></th>\n",
       "      <th></th>\n",
       "    </tr>\n",
       "  </thead>\n",
       "  <tbody>\n",
       "    <tr>\n",
       "      <th>2021-07-19</th>\n",
       "      <td>3244.04</td>\n",
       "      <td>3258.87</td>\n",
       "      <td>3258.87</td>\n",
       "      <td>3236.39</td>\n",
       "      <td>1.100000e+09</td>\n",
       "      <td>-0.0100</td>\n",
       "    </tr>\n",
       "    <tr>\n",
       "      <th>2021-07-20</th>\n",
       "      <td>3232.70</td>\n",
       "      <td>3223.24</td>\n",
       "      <td>3234.80</td>\n",
       "      <td>3214.42</td>\n",
       "      <td>9.796700e+08</td>\n",
       "      <td>-0.0035</td>\n",
       "    </tr>\n",
       "    <tr>\n",
       "      <th>2021-07-21</th>\n",
       "      <td>3215.91</td>\n",
       "      <td>3251.13</td>\n",
       "      <td>3252.25</td>\n",
       "      <td>3215.91</td>\n",
       "      <td>9.734700e+05</td>\n",
       "      <td>-0.0052</td>\n",
       "    </tr>\n",
       "    <tr>\n",
       "      <th>2021-07-22</th>\n",
       "      <td>3250.21</td>\n",
       "      <td>3235.17</td>\n",
       "      <td>3253.75</td>\n",
       "      <td>3235.17</td>\n",
       "      <td>7.129800e+08</td>\n",
       "      <td>0.0107</td>\n",
       "    </tr>\n",
       "    <tr>\n",
       "      <th>2021-07-23</th>\n",
       "      <td>3254.42</td>\n",
       "      <td>3253.44</td>\n",
       "      <td>3264.01</td>\n",
       "      <td>3246.09</td>\n",
       "      <td>7.605900e+05</td>\n",
       "      <td>0.0013</td>\n",
       "    </tr>\n",
       "  </tbody>\n",
       "</table>\n",
       "</div>"
      ],
      "text/plain": [
       "              Close     Open     High      Low        Volume  Change\n",
       "Date                                                                \n",
       "2021-07-19  3244.04  3258.87  3258.87  3236.39  1.100000e+09 -0.0100\n",
       "2021-07-20  3232.70  3223.24  3234.80  3214.42  9.796700e+08 -0.0035\n",
       "2021-07-21  3215.91  3251.13  3252.25  3215.91  9.734700e+05 -0.0052\n",
       "2021-07-22  3250.21  3235.17  3253.75  3235.17  7.129800e+08  0.0107\n",
       "2021-07-23  3254.42  3253.44  3264.01  3246.09  7.605900e+05  0.0013"
      ]
     },
     "execution_count": 4,
     "metadata": {},
     "output_type": "execute_result"
    }
   ],
   "source": [
    "kospi.tail()"
   ]
  },
  {
   "cell_type": "code",
   "execution_count": 5,
   "id": "3b7c1491",
   "metadata": {},
   "outputs": [
    {
     "data": {
      "text/html": [
       "<div>\n",
       "<style scoped>\n",
       "    .dataframe tbody tr th:only-of-type {\n",
       "        vertical-align: middle;\n",
       "    }\n",
       "\n",
       "    .dataframe tbody tr th {\n",
       "        vertical-align: top;\n",
       "    }\n",
       "\n",
       "    .dataframe thead th {\n",
       "        text-align: right;\n",
       "    }\n",
       "</style>\n",
       "<table border=\"1\" class=\"dataframe\">\n",
       "  <thead>\n",
       "    <tr style=\"text-align: right;\">\n",
       "      <th></th>\n",
       "      <th>Close</th>\n",
       "      <th>Open</th>\n",
       "      <th>High</th>\n",
       "      <th>Low</th>\n",
       "      <th>Volume</th>\n",
       "      <th>Change</th>\n",
       "    </tr>\n",
       "  </thead>\n",
       "  <tbody>\n",
       "    <tr>\n",
       "      <th>count</th>\n",
       "      <td>2753.000000</td>\n",
       "      <td>2753.000000</td>\n",
       "      <td>2753.000000</td>\n",
       "      <td>2753.000000</td>\n",
       "      <td>2.753000e+03</td>\n",
       "      <td>2753.000000</td>\n",
       "    </tr>\n",
       "    <tr>\n",
       "      <th>mean</th>\n",
       "      <td>2122.052514</td>\n",
       "      <td>2122.948870</td>\n",
       "      <td>2132.843967</td>\n",
       "      <td>2110.380069</td>\n",
       "      <td>4.792700e+08</td>\n",
       "      <td>0.000303</td>\n",
       "    </tr>\n",
       "    <tr>\n",
       "      <th>std</th>\n",
       "      <td>306.763904</td>\n",
       "      <td>306.500762</td>\n",
       "      <td>308.505952</td>\n",
       "      <td>304.951506</td>\n",
       "      <td>2.980405e+08</td>\n",
       "      <td>0.010362</td>\n",
       "    </tr>\n",
       "    <tr>\n",
       "      <th>min</th>\n",
       "      <td>1457.640000</td>\n",
       "      <td>1474.450000</td>\n",
       "      <td>1516.750000</td>\n",
       "      <td>1439.430000</td>\n",
       "      <td>1.722300e+05</td>\n",
       "      <td>-0.083900</td>\n",
       "    </tr>\n",
       "    <tr>\n",
       "      <th>25%</th>\n",
       "      <td>1950.290000</td>\n",
       "      <td>1952.860000</td>\n",
       "      <td>1961.000000</td>\n",
       "      <td>1942.440000</td>\n",
       "      <td>3.111400e+08</td>\n",
       "      <td>-0.004400</td>\n",
       "    </tr>\n",
       "    <tr>\n",
       "      <th>50%</th>\n",
       "      <td>2029.480000</td>\n",
       "      <td>2031.030000</td>\n",
       "      <td>2038.060000</td>\n",
       "      <td>2020.860000</td>\n",
       "      <td>3.840300e+08</td>\n",
       "      <td>0.000500</td>\n",
       "    </tr>\n",
       "    <tr>\n",
       "      <th>75%</th>\n",
       "      <td>2186.950000</td>\n",
       "      <td>2187.850000</td>\n",
       "      <td>2200.720000</td>\n",
       "      <td>2173.700000</td>\n",
       "      <td>5.169100e+08</td>\n",
       "      <td>0.005700</td>\n",
       "    </tr>\n",
       "    <tr>\n",
       "      <th>max</th>\n",
       "      <td>3305.210000</td>\n",
       "      <td>3305.460000</td>\n",
       "      <td>3316.080000</td>\n",
       "      <td>3295.440000</td>\n",
       "      <td>3.460000e+09</td>\n",
       "      <td>0.086000</td>\n",
       "    </tr>\n",
       "  </tbody>\n",
       "</table>\n",
       "</div>"
      ],
      "text/plain": [
       "             Close         Open         High          Low        Volume  \\\n",
       "count  2753.000000  2753.000000  2753.000000  2753.000000  2.753000e+03   \n",
       "mean   2122.052514  2122.948870  2132.843967  2110.380069  4.792700e+08   \n",
       "std     306.763904   306.500762   308.505952   304.951506  2.980405e+08   \n",
       "min    1457.640000  1474.450000  1516.750000  1439.430000  1.722300e+05   \n",
       "25%    1950.290000  1952.860000  1961.000000  1942.440000  3.111400e+08   \n",
       "50%    2029.480000  2031.030000  2038.060000  2020.860000  3.840300e+08   \n",
       "75%    2186.950000  2187.850000  2200.720000  2173.700000  5.169100e+08   \n",
       "max    3305.210000  3305.460000  3316.080000  3295.440000  3.460000e+09   \n",
       "\n",
       "            Change  \n",
       "count  2753.000000  \n",
       "mean      0.000303  \n",
       "std       0.010362  \n",
       "min      -0.083900  \n",
       "25%      -0.004400  \n",
       "50%       0.000500  \n",
       "75%       0.005700  \n",
       "max       0.086000  "
      ]
     },
     "execution_count": 5,
     "metadata": {},
     "output_type": "execute_result"
    }
   ],
   "source": [
    "kospi.describe()"
   ]
  },
  {
   "cell_type": "code",
   "execution_count": 6,
   "id": "cc9236b6",
   "metadata": {},
   "outputs": [
    {
     "data": {
      "text/plain": [
       "DatetimeIndex(['2010-06-01', '2010-06-03', '2010-06-04', '2010-06-07',\n",
       "               '2010-06-08', '2010-06-09', '2010-06-10', '2010-06-11',\n",
       "               '2010-06-14', '2010-06-15',\n",
       "               ...\n",
       "               '2021-07-12', '2021-07-13', '2021-07-14', '2021-07-15',\n",
       "               '2021-07-16', '2021-07-19', '2021-07-20', '2021-07-21',\n",
       "               '2021-07-22', '2021-07-23'],\n",
       "              dtype='datetime64[ns]', name='Date', length=2753, freq=None)"
      ]
     },
     "execution_count": 6,
     "metadata": {},
     "output_type": "execute_result"
    }
   ],
   "source": [
    "kospi.index"
   ]
  },
  {
   "cell_type": "code",
   "execution_count": 8,
   "id": "749a120d",
   "metadata": {},
   "outputs": [
    {
     "data": {
      "image/png": "[encoded data removed]",
      "text/plain": [
       "<Figure size 504x504 with 1 Axes>"
      ]
     },
     "metadata": {
      "needs_background": "dark"
     },
     "output_type": "display_data"
    }
   ],
   "source": [
    "import matplotlib.pyplot as plt\n",
    "plt.figure(figsize=(7, 7))\n",
    "plt.plot(dow.index, dow.Close, 'r--', label='Dow Jones Industrial')\n",
    "plt.plot(kospi.index, kospi.Close, 'b', label='KOSPI')\n",
    "plt.xticks(color='white')\n",
    "plt.yticks(color='white')\n",
    "plt.grid(True)\n",
    "plt.legend(loc='best')\n",
    "plt.show()"
   ]
  },
  {
   "cell_type": "markdown",
   "id": "cd027571",
   "metadata": {},
   "source": [
    "두 종목의 가격의 크기가 너무 다르면 서로 비교가 어려움 -> 절대값 비교(x) 변동률 비교(o)"
   ]
  },
  {
   "cell_type": "code",
   "execution_count": 10,
   "id": "a7c20552",
   "metadata": {},
   "outputs": [],
   "source": [
    "d = (dow.Close / dow.Close.loc['2010-06-01']) * 100\n",
    "k = (kospi.Close / kospi.Close.loc['2010-06-01']) * 100 \n",
    "# 종가/특정일 종가 = 변동률"
   ]
  },
  {
   "cell_type": "code",
   "execution_count": 11,
   "id": "f1c35cf9",
   "metadata": {},
   "outputs": [
    {
     "data": {
      "text/plain": [
       "Date\n",
       "2010-06-01    100.000000\n",
       "2010-06-02    102.249796\n",
       "2010-06-03    102.307058\n",
       "2010-06-04     99.081706\n",
       "2010-06-07     97.929673\n",
       "                 ...    \n",
       "2021-07-19    338.819057\n",
       "2021-07-20    344.291612\n",
       "2021-07-21    347.143561\n",
       "2021-07-22    347.393062\n",
       "2021-07-23    349.729350\n",
       "Name: Close, Length: 2806, dtype: float64"
      ]
     },
     "execution_count": 11,
     "metadata": {},
     "output_type": "execute_result"
    }
   ],
   "source": [
    "d"
   ]
  },
  {
   "cell_type": "code",
   "execution_count": 12,
   "id": "5f13f895",
   "metadata": {},
   "outputs": [
    {
     "data": {
      "text/plain": [
       "Date\n",
       "2010-06-01    100.000000\n",
       "2010-06-03    101.928361\n",
       "2010-06-04    102.068817\n",
       "2010-06-07    100.464303\n",
       "2010-06-08    101.292934\n",
       "                 ...    \n",
       "2021-07-19    198.972031\n",
       "2021-07-20    198.276497\n",
       "2021-07-21    197.246688\n",
       "2021-07-22    199.350466\n",
       "2021-07-23    199.608685\n",
       "Name: Close, Length: 2753, dtype: float64"
      ]
     },
     "execution_count": 12,
     "metadata": {},
     "output_type": "execute_result"
    }
   ],
   "source": [
    "k"
   ]
  },
  {
   "cell_type": "code",
   "execution_count": 13,
   "id": "97ab31c6",
   "metadata": {},
   "outputs": [
    {
     "data": {
      "image/png": "[encoded data removed]",
      "text/plain": [
       "<Figure size 504x504 with 1 Axes>"
      ]
     },
     "metadata": {
      "needs_background": "dark"
     },
     "output_type": "display_data"
    }
   ],
   "source": [
    "plt.figure(figsize=(7, 7))\n",
    "plt.plot(d.index, d, 'r--', label='Dow Jones Industrial')\n",
    "plt.plot(k.index, k, 'b', label='KOSPI')\n",
    "plt.xticks(color='white')\n",
    "plt.yticks(color='white')\n",
    "plt.grid(True)\n",
    "plt.legend(loc='best')\n",
    "plt.show()"
   ]
  },
  {
   "cell_type": "code",
   "execution_count": null,
   "id": "8a240891",
   "metadata": {},
   "outputs": [],
   "source": []
  },
  {
   "cell_type": "markdown",
   "id": "75efb9cd",
   "metadata": {},
   "source": [
    "# 산점도 분석"
   ]
  },
  {
   "cell_type": "code",
   "execution_count": 14,
   "id": "67a818c4",
   "metadata": {},
   "outputs": [
    {
     "name": "stdout",
     "output_type": "stream",
     "text": [
      "2806\n",
      "2753\n"
     ]
    }
   ],
   "source": [
    "print(len(dow))\n",
    "print(len(kospi))"
   ]
  },
  {
   "cell_type": "code",
   "execution_count": 15,
   "id": "4028354e",
   "metadata": {},
   "outputs": [
    {
     "ename": "ValueError",
     "evalue": "x and y must be the same size",
     "output_type": "error",
     "traceback": [
      "\u001b[1;31m---------------------------------------------------------------------------\u001b[0m",
      "\u001b[1;31mValueError\u001b[0m                                Traceback (most recent call last)",
      "\u001b[1;32m<ipython-input-15-60e7f6596d51>\u001b[0m in \u001b[0;36m<module>\u001b[1;34m\u001b[0m\n\u001b[1;32m----> 1\u001b[1;33m \u001b[0mplt\u001b[0m\u001b[1;33m.\u001b[0m\u001b[0mscatter\u001b[0m\u001b[1;33m(\u001b[0m\u001b[0mdow\u001b[0m\u001b[1;33m,\u001b[0m \u001b[0mkospi\u001b[0m\u001b[1;33m)\u001b[0m\u001b[1;33m\u001b[0m\u001b[1;33m\u001b[0m\u001b[0m\n\u001b[0m",
      "\u001b[1;32m~\\anaconda3\\lib\\site-packages\\matplotlib\\pyplot.py\u001b[0m in \u001b[0;36mscatter\u001b[1;34m(x, y, s, c, marker, cmap, norm, vmin, vmax, alpha, linewidths, verts, edgecolors, plotnonfinite, data, **kwargs)\u001b[0m\n\u001b[0;32m   2888\u001b[0m         \u001b[0mverts\u001b[0m\u001b[1;33m=\u001b[0m\u001b[0mcbook\u001b[0m\u001b[1;33m.\u001b[0m\u001b[0mdeprecation\u001b[0m\u001b[1;33m.\u001b[0m\u001b[0m_deprecated_parameter\u001b[0m\u001b[1;33m,\u001b[0m\u001b[1;33m\u001b[0m\u001b[1;33m\u001b[0m\u001b[0m\n\u001b[0;32m   2889\u001b[0m         edgecolors=None, *, plotnonfinite=False, data=None, **kwargs):\n\u001b[1;32m-> 2890\u001b[1;33m     __ret = gca().scatter(\n\u001b[0m\u001b[0;32m   2891\u001b[0m         \u001b[0mx\u001b[0m\u001b[1;33m,\u001b[0m \u001b[0my\u001b[0m\u001b[1;33m,\u001b[0m \u001b[0ms\u001b[0m\u001b[1;33m=\u001b[0m\u001b[0ms\u001b[0m\u001b[1;33m,\u001b[0m \u001b[0mc\u001b[0m\u001b[1;33m=\u001b[0m\u001b[0mc\u001b[0m\u001b[1;33m,\u001b[0m \u001b[0mmarker\u001b[0m\u001b[1;33m=\u001b[0m\u001b[0mmarker\u001b[0m\u001b[1;33m,\u001b[0m \u001b[0mcmap\u001b[0m\u001b[1;33m=\u001b[0m\u001b[0mcmap\u001b[0m\u001b[1;33m,\u001b[0m \u001b[0mnorm\u001b[0m\u001b[1;33m=\u001b[0m\u001b[0mnorm\u001b[0m\u001b[1;33m,\u001b[0m\u001b[1;33m\u001b[0m\u001b[1;33m\u001b[0m\u001b[0m\n\u001b[0;32m   2892\u001b[0m         \u001b[0mvmin\u001b[0m\u001b[1;33m=\u001b[0m\u001b[0mvmin\u001b[0m\u001b[1;33m,\u001b[0m \u001b[0mvmax\u001b[0m\u001b[1;33m=\u001b[0m\u001b[0mvmax\u001b[0m\u001b[1;33m,\u001b[0m \u001b[0malpha\u001b[0m\u001b[1;33m=\u001b[0m\u001b[0malpha\u001b[0m\u001b[1;33m,\u001b[0m \u001b[0mlinewidths\u001b[0m\u001b[1;33m=\u001b[0m\u001b[0mlinewidths\u001b[0m\u001b[1;33m,\u001b[0m\u001b[1;33m\u001b[0m\u001b[1;33m\u001b[0m\u001b[0m\n",
      "\u001b[1;32m~\\anaconda3\\lib\\site-packages\\matplotlib\\__init__.py\u001b[0m in \u001b[0;36minner\u001b[1;34m(ax, data, *args, **kwargs)\u001b[0m\n\u001b[0;32m   1445\u001b[0m     \u001b[1;32mdef\u001b[0m \u001b[0minner\u001b[0m\u001b[1;33m(\u001b[0m\u001b[0max\u001b[0m\u001b[1;33m,\u001b[0m \u001b[1;33m*\u001b[0m\u001b[0margs\u001b[0m\u001b[1;33m,\u001b[0m \u001b[0mdata\u001b[0m\u001b[1;33m=\u001b[0m\u001b[1;32mNone\u001b[0m\u001b[1;33m,\u001b[0m \u001b[1;33m**\u001b[0m\u001b[0mkwargs\u001b[0m\u001b[1;33m)\u001b[0m\u001b[1;33m:\u001b[0m\u001b[1;33m\u001b[0m\u001b[1;33m\u001b[0m\u001b[0m\n\u001b[0;32m   1446\u001b[0m         \u001b[1;32mif\u001b[0m \u001b[0mdata\u001b[0m \u001b[1;32mis\u001b[0m \u001b[1;32mNone\u001b[0m\u001b[1;33m:\u001b[0m\u001b[1;33m\u001b[0m\u001b[1;33m\u001b[0m\u001b[0m\n\u001b[1;32m-> 1447\u001b[1;33m             \u001b[1;32mreturn\u001b[0m \u001b[0mfunc\u001b[0m\u001b[1;33m(\u001b[0m\u001b[0max\u001b[0m\u001b[1;33m,\u001b[0m \u001b[1;33m*\u001b[0m\u001b[0mmap\u001b[0m\u001b[1;33m(\u001b[0m\u001b[0msanitize_sequence\u001b[0m\u001b[1;33m,\u001b[0m \u001b[0margs\u001b[0m\u001b[1;33m)\u001b[0m\u001b[1;33m,\u001b[0m \u001b[1;33m**\u001b[0m\u001b[0mkwargs\u001b[0m\u001b[1;33m)\u001b[0m\u001b[1;33m\u001b[0m\u001b[1;33m\u001b[0m\u001b[0m\n\u001b[0m\u001b[0;32m   1448\u001b[0m \u001b[1;33m\u001b[0m\u001b[0m\n\u001b[0;32m   1449\u001b[0m         \u001b[0mbound\u001b[0m \u001b[1;33m=\u001b[0m \u001b[0mnew_sig\u001b[0m\u001b[1;33m.\u001b[0m\u001b[0mbind\u001b[0m\u001b[1;33m(\u001b[0m\u001b[0max\u001b[0m\u001b[1;33m,\u001b[0m \u001b[1;33m*\u001b[0m\u001b[0margs\u001b[0m\u001b[1;33m,\u001b[0m \u001b[1;33m**\u001b[0m\u001b[0mkwargs\u001b[0m\u001b[1;33m)\u001b[0m\u001b[1;33m\u001b[0m\u001b[1;33m\u001b[0m\u001b[0m\n",
      "\u001b[1;32m~\\anaconda3\\lib\\site-packages\\matplotlib\\cbook\\deprecation.py\u001b[0m in \u001b[0;36mwrapper\u001b[1;34m(*inner_args, **inner_kwargs)\u001b[0m\n\u001b[0;32m    409\u001b[0m                          \u001b[1;32melse\u001b[0m \u001b[0mdeprecation_addendum\u001b[0m\u001b[1;33m,\u001b[0m\u001b[1;33m\u001b[0m\u001b[1;33m\u001b[0m\u001b[0m\n\u001b[0;32m    410\u001b[0m                 **kwargs)\n\u001b[1;32m--> 411\u001b[1;33m         \u001b[1;32mreturn\u001b[0m \u001b[0mfunc\u001b[0m\u001b[1;33m(\u001b[0m\u001b[1;33m*\u001b[0m\u001b[0minner_args\u001b[0m\u001b[1;33m,\u001b[0m \u001b[1;33m**\u001b[0m\u001b[0minner_kwargs\u001b[0m\u001b[1;33m)\u001b[0m\u001b[1;33m\u001b[0m\u001b[1;33m\u001b[0m\u001b[0m\n\u001b[0m\u001b[0;32m    412\u001b[0m \u001b[1;33m\u001b[0m\u001b[0m\n\u001b[0;32m    413\u001b[0m     \u001b[1;32mreturn\u001b[0m \u001b[0mwrapper\u001b[0m\u001b[1;33m\u001b[0m\u001b[1;33m\u001b[0m\u001b[0m\n",
      "\u001b[1;32m~\\anaconda3\\lib\\site-packages\\matplotlib\\axes\\_axes.py\u001b[0m in \u001b[0;36mscatter\u001b[1;34m(self, x, y, s, c, marker, cmap, norm, vmin, vmax, alpha, linewidths, verts, edgecolors, plotnonfinite, **kwargs)\u001b[0m\n\u001b[0;32m   4439\u001b[0m         \u001b[0my\u001b[0m \u001b[1;33m=\u001b[0m \u001b[0mnp\u001b[0m\u001b[1;33m.\u001b[0m\u001b[0mma\u001b[0m\u001b[1;33m.\u001b[0m\u001b[0mravel\u001b[0m\u001b[1;33m(\u001b[0m\u001b[0my\u001b[0m\u001b[1;33m)\u001b[0m\u001b[1;33m\u001b[0m\u001b[1;33m\u001b[0m\u001b[0m\n\u001b[0;32m   4440\u001b[0m         \u001b[1;32mif\u001b[0m \u001b[0mx\u001b[0m\u001b[1;33m.\u001b[0m\u001b[0msize\u001b[0m \u001b[1;33m!=\u001b[0m \u001b[0my\u001b[0m\u001b[1;33m.\u001b[0m\u001b[0msize\u001b[0m\u001b[1;33m:\u001b[0m\u001b[1;33m\u001b[0m\u001b[1;33m\u001b[0m\u001b[0m\n\u001b[1;32m-> 4441\u001b[1;33m             \u001b[1;32mraise\u001b[0m \u001b[0mValueError\u001b[0m\u001b[1;33m(\u001b[0m\u001b[1;34m\"x and y must be the same size\"\u001b[0m\u001b[1;33m)\u001b[0m\u001b[1;33m\u001b[0m\u001b[1;33m\u001b[0m\u001b[0m\n\u001b[0m\u001b[0;32m   4442\u001b[0m \u001b[1;33m\u001b[0m\u001b[0m\n\u001b[0;32m   4443\u001b[0m         \u001b[1;32mif\u001b[0m \u001b[0ms\u001b[0m \u001b[1;32mis\u001b[0m \u001b[1;32mNone\u001b[0m\u001b[1;33m:\u001b[0m\u001b[1;33m\u001b[0m\u001b[1;33m\u001b[0m\u001b[0m\n",
      "\u001b[1;31mValueError\u001b[0m: x and y must be the same size"
     ]
    },
    {
     "data": {
      "image/png": "[encoded data removed]",
      "text/plain": [
       "<Figure size 432x288 with 1 Axes>"
      ]
     },
     "metadata": {
      "needs_background": "light"
     },
     "output_type": "display_data"
    }
   ],
   "source": [
    "plt.scatter(dow, kospi) # 에러 발생 -> 산점도를 그리려면 크기가 동일해야 함 "
   ]
  },
  {
   "cell_type": "code",
   "execution_count": 16,
   "id": "3212e3ca",
   "metadata": {},
   "outputs": [],
   "source": [
    "import pandas as pd"
   ]
  },
  {
   "cell_type": "code",
   "execution_count": 17,
   "id": "3db7ddb2",
   "metadata": {},
   "outputs": [
    {
     "data": {
      "text/html": [
       "<div>\n",
       "<style scoped>\n",
       "    .dataframe tbody tr th:only-of-type {\n",
       "        vertical-align: middle;\n",
       "    }\n",
       "\n",
       "    .dataframe tbody tr th {\n",
       "        vertical-align: top;\n",
       "    }\n",
       "\n",
       "    .dataframe thead th {\n",
       "        text-align: right;\n",
       "    }\n",
       "</style>\n",
       "<table border=\"1\" class=\"dataframe\">\n",
       "  <thead>\n",
       "    <tr style=\"text-align: right;\">\n",
       "      <th></th>\n",
       "      <th>DOW</th>\n",
       "      <th>KOSPI</th>\n",
       "    </tr>\n",
       "    <tr>\n",
       "      <th>Date</th>\n",
       "      <th></th>\n",
       "      <th></th>\n",
       "    </tr>\n",
       "  </thead>\n",
       "  <tbody>\n",
       "    <tr>\n",
       "      <th>2010-06-01</th>\n",
       "      <td>10024.02</td>\n",
       "      <td>1630.40</td>\n",
       "    </tr>\n",
       "    <tr>\n",
       "      <th>2010-06-02</th>\n",
       "      <td>10249.54</td>\n",
       "      <td>NaN</td>\n",
       "    </tr>\n",
       "    <tr>\n",
       "      <th>2010-06-03</th>\n",
       "      <td>10255.28</td>\n",
       "      <td>1661.84</td>\n",
       "    </tr>\n",
       "    <tr>\n",
       "      <th>2010-06-04</th>\n",
       "      <td>9931.97</td>\n",
       "      <td>1664.13</td>\n",
       "    </tr>\n",
       "    <tr>\n",
       "      <th>2010-06-07</th>\n",
       "      <td>9816.49</td>\n",
       "      <td>1637.97</td>\n",
       "    </tr>\n",
       "    <tr>\n",
       "      <th>...</th>\n",
       "      <td>...</td>\n",
       "      <td>...</td>\n",
       "    </tr>\n",
       "    <tr>\n",
       "      <th>2021-07-19</th>\n",
       "      <td>33963.29</td>\n",
       "      <td>3244.04</td>\n",
       "    </tr>\n",
       "    <tr>\n",
       "      <th>2021-07-20</th>\n",
       "      <td>34511.86</td>\n",
       "      <td>3232.70</td>\n",
       "    </tr>\n",
       "    <tr>\n",
       "      <th>2021-07-21</th>\n",
       "      <td>34797.74</td>\n",
       "      <td>3215.91</td>\n",
       "    </tr>\n",
       "    <tr>\n",
       "      <th>2021-07-22</th>\n",
       "      <td>34822.75</td>\n",
       "      <td>3250.21</td>\n",
       "    </tr>\n",
       "    <tr>\n",
       "      <th>2021-07-23</th>\n",
       "      <td>35056.94</td>\n",
       "      <td>3254.42</td>\n",
       "    </tr>\n",
       "  </tbody>\n",
       "</table>\n",
       "<p>2891 rows × 2 columns</p>\n",
       "</div>"
      ],
      "text/plain": [
       "                 DOW    KOSPI\n",
       "Date                         \n",
       "2010-06-01  10024.02  1630.40\n",
       "2010-06-02  10249.54      NaN\n",
       "2010-06-03  10255.28  1661.84\n",
       "2010-06-04   9931.97  1664.13\n",
       "2010-06-07   9816.49  1637.97\n",
       "...              ...      ...\n",
       "2021-07-19  33963.29  3244.04\n",
       "2021-07-20  34511.86  3232.70\n",
       "2021-07-21  34797.74  3215.91\n",
       "2021-07-22  34822.75  3250.21\n",
       "2021-07-23  35056.94  3254.42\n",
       "\n",
       "[2891 rows x 2 columns]"
      ]
     },
     "execution_count": 17,
     "metadata": {},
     "output_type": "execute_result"
    }
   ],
   "source": [
    "df = pd.DataFrame({'DOW' : dow['Close'], 'KOSPI' : kospi['Close']})\n",
    "df"
   ]
  },
  {
   "cell_type": "code",
   "execution_count": 18,
   "id": "3d708720",
   "metadata": {},
   "outputs": [
    {
     "data": {
      "text/plain": [
       "DOW       85\n",
       "KOSPI    138\n",
       "dtype: int64"
      ]
     },
     "execution_count": 18,
     "metadata": {},
     "output_type": "execute_result"
    }
   ],
   "source": [
    "df.isnull().sum()"
   ]
  },
  {
   "cell_type": "code",
   "execution_count": 19,
   "id": "3e505830",
   "metadata": {},
   "outputs": [
    {
     "data": {
      "text/html": [
       "<div>\n",
       "<style scoped>\n",
       "    .dataframe tbody tr th:only-of-type {\n",
       "        vertical-align: middle;\n",
       "    }\n",
       "\n",
       "    .dataframe tbody tr th {\n",
       "        vertical-align: top;\n",
       "    }\n",
       "\n",
       "    .dataframe thead th {\n",
       "        text-align: right;\n",
       "    }\n",
       "</style>\n",
       "<table border=\"1\" class=\"dataframe\">\n",
       "  <thead>\n",
       "    <tr style=\"text-align: right;\">\n",
       "      <th></th>\n",
       "      <th>DOW</th>\n",
       "      <th>KOSPI</th>\n",
       "    </tr>\n",
       "    <tr>\n",
       "      <th>Date</th>\n",
       "      <th></th>\n",
       "      <th></th>\n",
       "    </tr>\n",
       "  </thead>\n",
       "  <tbody>\n",
       "    <tr>\n",
       "      <th>2010-06-01</th>\n",
       "      <td>10024.02</td>\n",
       "      <td>1630.40</td>\n",
       "    </tr>\n",
       "    <tr>\n",
       "      <th>2010-06-02</th>\n",
       "      <td>10249.54</td>\n",
       "      <td>1661.84</td>\n",
       "    </tr>\n",
       "    <tr>\n",
       "      <th>2010-06-03</th>\n",
       "      <td>10255.28</td>\n",
       "      <td>1661.84</td>\n",
       "    </tr>\n",
       "    <tr>\n",
       "      <th>2010-06-04</th>\n",
       "      <td>9931.97</td>\n",
       "      <td>1664.13</td>\n",
       "    </tr>\n",
       "    <tr>\n",
       "      <th>2010-06-07</th>\n",
       "      <td>9816.49</td>\n",
       "      <td>1637.97</td>\n",
       "    </tr>\n",
       "    <tr>\n",
       "      <th>...</th>\n",
       "      <td>...</td>\n",
       "      <td>...</td>\n",
       "    </tr>\n",
       "    <tr>\n",
       "      <th>2021-07-19</th>\n",
       "      <td>33963.29</td>\n",
       "      <td>3244.04</td>\n",
       "    </tr>\n",
       "    <tr>\n",
       "      <th>2021-07-20</th>\n",
       "      <td>34511.86</td>\n",
       "      <td>3232.70</td>\n",
       "    </tr>\n",
       "    <tr>\n",
       "      <th>2021-07-21</th>\n",
       "      <td>34797.74</td>\n",
       "      <td>3215.91</td>\n",
       "    </tr>\n",
       "    <tr>\n",
       "      <th>2021-07-22</th>\n",
       "      <td>34822.75</td>\n",
       "      <td>3250.21</td>\n",
       "    </tr>\n",
       "    <tr>\n",
       "      <th>2021-07-23</th>\n",
       "      <td>35056.94</td>\n",
       "      <td>3254.42</td>\n",
       "    </tr>\n",
       "  </tbody>\n",
       "</table>\n",
       "<p>2891 rows × 2 columns</p>\n",
       "</div>"
      ],
      "text/plain": [
       "                 DOW    KOSPI\n",
       "Date                         \n",
       "2010-06-01  10024.02  1630.40\n",
       "2010-06-02  10249.54  1661.84\n",
       "2010-06-03  10255.28  1661.84\n",
       "2010-06-04   9931.97  1664.13\n",
       "2010-06-07   9816.49  1637.97\n",
       "...              ...      ...\n",
       "2021-07-19  33963.29  3244.04\n",
       "2021-07-20  34511.86  3232.70\n",
       "2021-07-21  34797.74  3215.91\n",
       "2021-07-22  34822.75  3250.21\n",
       "2021-07-23  35056.94  3254.42\n",
       "\n",
       "[2891 rows x 2 columns]"
      ]
     },
     "execution_count": 19,
     "metadata": {},
     "output_type": "execute_result"
    }
   ],
   "source": [
    "df = df.fillna(method='bfill') # 결측값 뒤에 있는 값으로 결측값 덮어쓰기\n",
    "df"
   ]
  },
  {
   "cell_type": "code",
   "execution_count": 20,
   "id": "a7ec6c6b",
   "metadata": {},
   "outputs": [
    {
     "data": {
      "text/plain": [
       "DOW      0\n",
       "KOSPI    0\n",
       "dtype: int64"
      ]
     },
     "execution_count": 20,
     "metadata": {},
     "output_type": "execute_result"
    }
   ],
   "source": [
    "df.isnull().sum()"
   ]
  },
  {
   "cell_type": "code",
   "execution_count": 21,
   "id": "421145b8",
   "metadata": {},
   "outputs": [
    {
     "data": {
      "text/plain": [
       "<matplotlib.collections.PathCollection at 0x2287bf0fa00>"
      ]
     },
     "execution_count": 21,
     "metadata": {},
     "output_type": "execute_result"
    },
    {
     "data": {
      "image/png": "[encoded data removed]",
      "text/plain": [
       "<Figure size 432x288 with 1 Axes>"
      ]
     },
     "metadata": {
      "needs_background": "light"
     },
     "output_type": "display_data"
    }
   ],
   "source": [
    "plt.scatter(df['DOW'], df['KOSPI'])"
   ]
  },
  {
   "cell_type": "code",
   "execution_count": 22,
   "id": "a4667144",
   "metadata": {},
   "outputs": [
    {
     "data": {
      "text/plain": [
       "<matplotlib.collections.PathCollection at 0x2287bec1c70>"
      ]
     },
     "execution_count": 22,
     "metadata": {},
     "output_type": "execute_result"
    },
    {
     "data": {
      "image/png": "[encoded data removed]",
      "text/plain": [
       "<Figure size 576x720 with 1 Axes>"
      ]
     },
     "metadata": {
      "needs_background": "light"
     },
     "output_type": "display_data"
    }
   ],
   "source": [
    "plt.figure(figsize=(8, 10))\n",
    "plt.scatter(df['DOW'], df['KOSPI'])"
   ]
  },
  {
   "cell_type": "code",
   "execution_count": 25,
   "id": "a45695a1",
   "metadata": {},
   "outputs": [
    {
     "data": {
      "text/plain": [
       "<matplotlib.collections.PathCollection at 0x2287c007f40>"
      ]
     },
     "execution_count": 25,
     "metadata": {},
     "output_type": "execute_result"
    },
    {
     "data": {
      "image/png": "[encoded data removed]",
      "text/plain": [
       "<Figure size 720x720 with 1 Axes>"
      ]
     },
     "metadata": {
      "needs_background": "dark"
     },
     "output_type": "display_data"
    }
   ],
   "source": [
    "plt.figure(figsize=(10, 10))\n",
    "plt.title('Dow Jonse Industrial Average - KOSPI Chart', color ='white')\n",
    "plt.xlabel('Dow Jonse Industrial Average')\n",
    "plt.ylabel('KOSPI')\n",
    "plt.xticks(color='white')\n",
    "plt.yticks(color='white')\n",
    "plt.scatter(df['DOW'], df['KOSPI'])"
   ]
  },
  {
   "cell_type": "code",
   "execution_count": null,
   "id": "0eb31a64",
   "metadata": {},
   "outputs": [],
   "source": []
  },
  {
   "cell_type": "markdown",
   "id": "180fb7dc",
   "metadata": {},
   "source": [
    "# 선형 회귀 분석"
   ]
  },
  {
   "cell_type": "code",
   "execution_count": 31,
   "id": "f738dccc",
   "metadata": {},
   "outputs": [],
   "source": [
    "from scipy import stats"
   ]
  },
  {
   "cell_type": "code",
   "execution_count": 32,
   "id": "d385c1f2",
   "metadata": {},
   "outputs": [
    {
     "data": {
      "text/plain": [
       "LinregressResult(slope=0.03773002331987354, intercept=1387.9218089156766, rvalue=0.7701001863835435, pvalue=0.0, stderr=0.0005814793652666178, intercept_stderr=11.886865506716404)"
      ]
     },
     "execution_count": 32,
     "metadata": {},
     "output_type": "execute_result"
    }
   ],
   "source": [
    "regr = stats.linregress(df['DOW'], df['KOSPI'])\n",
    "regr"
   ]
  },
  {
   "cell_type": "code",
   "execution_count": 33,
   "id": "20398e53",
   "metadata": {},
   "outputs": [
    {
     "data": {
      "text/plain": [
       "0.03773002331987354"
      ]
     },
     "execution_count": 33,
     "metadata": {},
     "output_type": "execute_result"
    }
   ],
   "source": [
    "regr.slope # 기울기"
   ]
  },
  {
   "cell_type": "code",
   "execution_count": 34,
   "id": "473e8c97",
   "metadata": {},
   "outputs": [
    {
     "data": {
      "text/plain": [
       "1387.9218089156766"
      ]
     },
     "execution_count": 34,
     "metadata": {},
     "output_type": "execute_result"
    }
   ],
   "source": [
    "regr.intercept # y절편"
   ]
  },
  {
   "cell_type": "markdown",
   "id": "3c9e9043",
   "metadata": {},
   "source": [
    "최종 회귀직선 : 코스피지수=0.036×다우존스지수+1413"
   ]
  },
  {
   "cell_type": "code",
   "execution_count": null,
   "id": "a1ebc5c8",
   "metadata": {},
   "outputs": [],
   "source": []
  },
  {
   "cell_type": "markdown",
   "id": "f42257f7",
   "metadata": {},
   "source": [
    "# 상관계수에 따른 리스크 완화"
   ]
  },
  {
   "cell_type": "code",
   "execution_count": 26,
   "id": "0a5090f1",
   "metadata": {},
   "outputs": [
    {
     "data": {
      "text/html": [
       "<div>\n",
       "<style scoped>\n",
       "    .dataframe tbody tr th:only-of-type {\n",
       "        vertical-align: middle;\n",
       "    }\n",
       "\n",
       "    .dataframe tbody tr th {\n",
       "        vertical-align: top;\n",
       "    }\n",
       "\n",
       "    .dataframe thead th {\n",
       "        text-align: right;\n",
       "    }\n",
       "</style>\n",
       "<table border=\"1\" class=\"dataframe\">\n",
       "  <thead>\n",
       "    <tr style=\"text-align: right;\">\n",
       "      <th></th>\n",
       "      <th>DOW</th>\n",
       "      <th>KOSPI</th>\n",
       "    </tr>\n",
       "  </thead>\n",
       "  <tbody>\n",
       "    <tr>\n",
       "      <th>DOW</th>\n",
       "      <td>1.0000</td>\n",
       "      <td>0.7701</td>\n",
       "    </tr>\n",
       "    <tr>\n",
       "      <th>KOSPI</th>\n",
       "      <td>0.7701</td>\n",
       "      <td>1.0000</td>\n",
       "    </tr>\n",
       "  </tbody>\n",
       "</table>\n",
       "</div>"
      ],
      "text/plain": [
       "          DOW   KOSPI\n",
       "DOW    1.0000  0.7701\n",
       "KOSPI  0.7701  1.0000"
      ]
     },
     "execution_count": 26,
     "metadata": {},
     "output_type": "execute_result"
    }
   ],
   "source": [
    "df.corr()"
   ]
  },
  {
   "cell_type": "code",
   "execution_count": 27,
   "id": "3ecf5083",
   "metadata": {},
   "outputs": [
    {
     "data": {
      "text/plain": [
       "0.7701001863835437"
      ]
     },
     "execution_count": 27,
     "metadata": {},
     "output_type": "execute_result"
    }
   ],
   "source": [
    "df['DOW'].corr(df['KOSPI'])"
   ]
  },
  {
   "cell_type": "code",
   "execution_count": 28,
   "id": "48a0ea08",
   "metadata": {},
   "outputs": [
    {
     "data": {
      "text/plain": [
       "0.7701001863835437"
      ]
     },
     "execution_count": 28,
     "metadata": {},
     "output_type": "execute_result"
    }
   ],
   "source": [
    "r_value = df['DOW'].corr(df['KOSPI'])\n",
    "r_value # 결정계수"
   ]
  },
  {
   "cell_type": "code",
   "execution_count": 29,
   "id": "6a16995c",
   "metadata": {},
   "outputs": [
    {
     "data": {
      "text/plain": [
       "0.5930542970679687"
      ]
     },
     "execution_count": 29,
     "metadata": {},
     "output_type": "execute_result"
    }
   ],
   "source": [
    "r_squared = r_value ** 2\n",
    "r_squared # 상관계수"
   ]
  },
  {
   "cell_type": "code",
   "execution_count": 35,
   "id": "2c089e86",
   "metadata": {},
   "outputs": [],
   "source": [
    "regr_line = f'Y = {regr.slope:.2f} * X + {regr.intercept:.2f}'"
   ]
  },
  {
   "cell_type": "code",
   "execution_count": 36,
   "id": "7be62ad3",
   "metadata": {},
   "outputs": [
    {
     "data": {
      "text/plain": [
       "'Y = 0.04 * X + 1387.92'"
      ]
     },
     "execution_count": 36,
     "metadata": {},
     "output_type": "execute_result"
    }
   ],
   "source": [
    "regr_line"
   ]
  },
  {
   "cell_type": "code",
   "execution_count": 37,
   "id": "b44fa590",
   "metadata": {},
   "outputs": [
    {
     "data": {
      "text/plain": [
       "str"
      ]
     },
     "execution_count": 37,
     "metadata": {},
     "output_type": "execute_result"
    }
   ],
   "source": [
    "type(regr_line)"
   ]
  },
  {
   "cell_type": "code",
   "execution_count": 40,
   "id": "330c4352",
   "metadata": {},
   "outputs": [
    {
     "data": {
      "image/png": "[encoded data removed]",
      "text/plain": [
       "<Figure size 504x504 with 1 Axes>"
      ]
     },
     "metadata": {
      "needs_background": "dark"
     },
     "output_type": "display_data"
    }
   ],
   "source": [
    "plt.figure(figsize=(7,7))\n",
    "plt.plot(df['DOW'], df['KOSPI'], '.')\n",
    "plt.plot(df['DOW'], regr.slope * df['DOW'] + regr.intercept, 'r')\n",
    "plt.legend(['DOW x KOSPI', regr_line])\n",
    "plt.title(f'DOW x KOSPI (R = {regr.rvalue:.2f})',color='white')\n",
    "plt.xlabel('Dow Jones Industrial Average')\n",
    "plt.ylabel('KOSPI')\n",
    "plt.xticks(color='white')\n",
    "plt.yticks(color='white')\n",
    "plt.show()"
   ]
  },
  {
   "cell_type": "code",
   "execution_count": null,
   "id": "7a906f9e",
   "metadata": {},
   "outputs": [],
   "source": []
  },
  {
   "cell_type": "markdown",
   "id": "78d4397d",
   "metadata": {},
   "source": [
    "노벨경제학상을 수상한 해리 마코위츠 박사가 체계화한 현대 포트폴리오 이론은 **'투자에 대한 수익과 위험은 평균과 분산으로 나타낼 수 있으며, 상관관계가 낮은 자산을 대상으로 분산 투자하면 위험을 감소시킬 수 있다'**는 이론입니다."
   ]
  },
  {
   "cell_type": "markdown",
   "id": "c06051be",
   "metadata": {},
   "source": [
    "상관관계가 낮은 대표적인 예로 주식과 채권을 들 수 있는데,  \n",
    "이처럼 상관관계가 낮은 자산으로 포트폴리오를 구성하면 약세장과 강세장에서 모두 실적을 낼 수 있습니다."
   ]
  },
  {
   "cell_type": "markdown",
   "id": "e53fca13",
   "metadata": {},
   "source": [
    "두 개의 투자 대상의 상관 계수가 다음과 같다면 리스크 완화 효과는 다음과 같습니다.\n",
    "- 상관 계수 : +1.0 -> 리스크 완화 효과가 없음  \n",
    "- 상관 계수 : +0.5 -> 중간 정도의 리스크 완화 효과가 있음  \n",
    "- 상관 계수 : 0 -> 상당한 리스크 완화 효과가 있음  \n",
    "- 상관 계수 : -0.5 -> 대부분의 리스크를 제거함  \n",
    "- 상관 계수 : -1.0 -> 모든 리스크를 제거함 "
   ]
  },
  {
   "cell_type": "code",
   "execution_count": null,
   "id": "11ab3538",
   "metadata": {},
   "outputs": [],
   "source": []
  }
 ],
 "metadata": {
  "kernelspec": {
   "display_name": "Python 3",
   "language": "python",
   "name": "python3"
  },
  "language_info": {
   "codemirror_mode": {
    "name": "ipython",
    "version": 3
   },
   "file_extension": ".py",
   "mimetype": "text/x-python",
   "name": "python",
   "nbconvert_exporter": "python",
   "pygments_lexer": "ipython3",
   "version": "3.8.8"
  },
  "toc": {
   "base_numbering": 1,
   "nav_menu": {},
   "number_sections": true,
   "sideBar": true,
   "skip_h1_title": false,
   "title_cell": "Table of Contents",
   "title_sidebar": "Contents",
   "toc_cell": false,
   "toc_position": {},
   "toc_section_display": true,
   "toc_window_display": true
  },
  "varInspector": {
   "cols": {
    "lenName": 16,
    "lenType": 16,
    "lenVar": 40
   },
   "kernels_config": {
    "python": {
     "delete_cmd_postfix": "",
     "delete_cmd_prefix": "del ",
     "library": "var_list.py",
     "varRefreshCmd": "print(var_dic_list())"
    },
    "r": {
     "delete_cmd_postfix": ") ",
     "delete_cmd_prefix": "rm(",
     "library": "var_list.r",
     "varRefreshCmd": "cat(var_dic_list()) "
    }
   },
   "types_to_exclude": [
    "module",
    "function",
    "builtin_function_or_method",
    "instance",
    "_Feature"
   ],
   "window_display": false
  }
 },
 "nbformat": 4,
 "nbformat_minor": 5
}
